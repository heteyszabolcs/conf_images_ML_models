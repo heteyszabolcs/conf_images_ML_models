{
 "cells": [
  {
   "cell_type": "code",
   "execution_count": 6,
   "id": "3fbe6804-2a91-4d8a-a7f2-d172f407d9a2",
   "metadata": {},
   "outputs": [],
   "source": [
    "import sys\n",
    "import os\n",
    "\n",
    "# Get the absolute path of the project root\n",
    "project_root = os.path.abspath(os.path.join(os.getcwd(), '..'))\n",
    "\n",
    "# Add the project root to the Python path\n",
    "sys.path.insert(0, project_root)\n",
    "\n",
    "from src.image_conversion import convert_tiff_channel_to_jpg\n",
    "from src.data_preparation import prepare_data\n",
    "from src.image_processing import process_image\n",
    "from src.model_training import train_random_forest, predict_random_forest"
   ]
  },
  {
   "cell_type": "code",
   "execution_count": 8,
   "id": "cf11d7d0-ac2f-4fec-b214-7a706cf84500",
   "metadata": {},
   "outputs": [],
   "source": []
  }
 ],
 "metadata": {
  "kernelspec": {
   "display_name": "Python 3 (ipykernel)",
   "language": "python",
   "name": "python3"
  },
  "language_info": {
   "codemirror_mode": {
    "name": "ipython",
    "version": 3
   },
   "file_extension": ".py",
   "mimetype": "text/x-python",
   "name": "python",
   "nbconvert_exporter": "python",
   "pygments_lexer": "ipython3",
   "version": "3.8.19"
  }
 },
 "nbformat": 4,
 "nbformat_minor": 5
}
